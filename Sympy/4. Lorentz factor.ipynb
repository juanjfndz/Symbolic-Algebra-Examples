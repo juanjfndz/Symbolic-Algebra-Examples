{
 "cells": [
  {
   "cell_type": "markdown",
   "id": "b6656942",
   "metadata": {},
   "source": [
    "# Introduction to Special Relativity\n",
    "\n",
    "Special Relativity is a fundamental theory of physics that describes the behavior of objects in motion relative to each other. It was first introduced by Albert Einstein in 1905, and has since become a cornerstone of modern physics.\n",
    "\n",
    "One of the most striking consequences of Special Relativity is the concept of time dilation. This effect occurs when two observers, moving relative to each other, experience time passing at different rates. Specifically, an observer moving at a high velocity relative to a stationary observer will experience time passing more slowly.\n",
    "\n",
    "The magnitude of this effect is described by the Lorentz factor, which is given by the equation:\n",
    "\n",
    "$$ \\gamma = \\frac{1}{\\sqrt{1 - v^2/c^2}} $$\n",
    "\n",
    "where $v$ is the relative velocity between the two observers and $c$ is the speed of light.\n",
    "\n",
    "The Lorentz factor plays a key role in many aspects of Special Relativity, including time dilation, length contraction, and relativistic mass.\n",
    "\n",
    "This Python script demonstrates how to calculate the Lorentz factor and time dilation for a given velocity and time experienced by a stationary observer. By using these equations, we can gain a deeper understanding of the behavior of objects in motion relative to each other, and the fundamental principles of Special Relativity. "
   ]
  },
  {
   "cell_type": "code",
   "execution_count": 13,
   "id": "3b6d8fee",
   "metadata": {},
   "outputs": [],
   "source": [
    "import sympy as sp"
   ]
  },
  {
   "cell_type": "markdown",
   "id": "011ab94d",
   "metadata": {},
   "source": [
    "## Constants\n",
    "\n",
    "The script uses the constant `c` to represent the speed of light in meters per second."
   ]
  },
  {
   "cell_type": "code",
   "execution_count": 14,
   "id": "09c87e94",
   "metadata": {},
   "outputs": [],
   "source": [
    "# Constants\n",
    "c = 3.0e8  # Speed of light in m/s"
   ]
  },
  {
   "cell_type": "markdown",
   "id": "097613b7",
   "metadata": {},
   "source": [
    "## Variables\n",
    "\n",
    "The script uses the variables `t` and `v` to represent time and velocity, respectively."
   ]
  },
  {
   "cell_type": "code",
   "execution_count": 15,
   "id": "ecaa3135",
   "metadata": {},
   "outputs": [],
   "source": [
    "# Variables\n",
    "t, v = sp.symbols(\"t v\")\n",
    "gamma = 1 / sp.sqrt(1 - v**2 / c**2)"
   ]
  },
  {
   "cell_type": "markdown",
   "id": "81909786",
   "metadata": {},
   "source": [
    "## Functions\n",
    "\n",
    "The script defines two functions:\n",
    "- `lorentz_factor`: Calculates the Lorentz factor for a given velocity using the formula:\n",
    "\n",
    "$$\\gamma = \\frac{1}{\\sqrt{1 - \\frac{v^2}{c^2}}}$$.\n"
   ]
  },
  {
   "cell_type": "code",
   "execution_count": 18,
   "id": "5aeef494",
   "metadata": {},
   "outputs": [],
   "source": [
    "def lorentz_factor(v):\n",
    "    \"\"\"\n",
    "    Calculate the Lorentz factor for a given velocity.\n",
    "\n",
    "    :param v: Velocity of the moving object\n",
    "    :return: Lorentz factor\n",
    "    \"\"\"\n",
    "    return 1 / sp.sqrt(1 - v**2 / c**2)"
   ]
  },
  {
   "cell_type": "markdown",
   "id": "1baddf08",
   "metadata": {},
   "source": [
    "- `time_dilation`: Calculates the time dilation experienced by a moving observer using the formula:\n",
    "$$\\tau = \\gamma t,$$ \n",
    "where `t` is the time experienced by the stationary observer and $\\gamma$ is the Lorentz factor.\n"
   ]
  },
  {
   "cell_type": "code",
   "execution_count": 19,
   "id": "233f7a5e",
   "metadata": {},
   "outputs": [],
   "source": [
    "def time_dilation(t, v):\n",
    "    \"\"\"\n",
    "    Calculate the time dilation experienced by a moving observer.\n",
    "\n",
    "    :param t: Time experienced by the stationary observer\n",
    "    :param v: Velocity of the moving observer\n",
    "    :return: Time experienced by the moving observer\n",
    "    \"\"\"\n",
    "    gamma = lorentz_factor(v)\n",
    "    return t * gamma"
   ]
  },
  {
   "cell_type": "markdown",
   "id": "335c9801",
   "metadata": {},
   "source": [
    "## Example\n",
    "\n",
    "The script includes an example that calculates the proper time experienced by an observer in a spaceship moving at 0.8c for a stationary observer's time of 10 seconds. The result is printed to the console."
   ]
  },
  {
   "cell_type": "code",
   "execution_count": 20,
   "id": "5b8df113",
   "metadata": {},
   "outputs": [
    {
     "name": "stdout",
     "output_type": "stream",
     "text": [
      "The time experienced by the stationary observer: 10 seconds\n",
      "Velocity of the moving spaceship: 0.80c\n",
      "Proper time experienced by the observer in the moving spaceship: 16.67 seconds\n"
     ]
    }
   ],
   "source": [
    "def main():\n",
    "    v_example = 0.8 * c\n",
    "    t_example = 10\n",
    "\n",
    "    proper_time = time_dilation(t_example, v_example)\n",
    "    \n",
    "    print(f\"The time experienced by the stationary observer: {t_example} seconds\")\n",
    "    print(f\"Velocity of the moving spaceship: {v_example / c:.2f}c\")\n",
    "    print(f\"Proper time experienced by the observer in the moving spaceship: {proper_time.evalf():.2f} seconds\")\n",
    "\n",
    "if __name__ == \"__main__\":\n",
    "    main()"
   ]
  }
 ],
 "metadata": {
  "kernelspec": {
   "display_name": "Python 3 (ipykernel)",
   "language": "python",
   "name": "python3"
  },
  "language_info": {
   "codemirror_mode": {
    "name": "ipython",
    "version": 3
   },
   "file_extension": ".py",
   "mimetype": "text/x-python",
   "name": "python",
   "nbconvert_exporter": "python",
   "pygments_lexer": "ipython3",
   "version": "3.8.13"
  }
 },
 "nbformat": 4,
 "nbformat_minor": 5
}
