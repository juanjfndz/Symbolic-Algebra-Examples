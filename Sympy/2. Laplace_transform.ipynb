{
 "cells": [
  {
   "cell_type": "markdown",
   "id": "b84953a5",
   "metadata": {},
   "source": [
    "# Introduction to the Laplace Transform\n",
    "\n",
    "The Laplace transform is a mathematical tool used to simplify the analysis of complex systems in engineering, physics, and other fields. It is particularly useful for solving differential equations with complex initial or boundary conditions.\n",
    "\n",
    "The Laplace transform of a function `f(t)` is defined as:\n",
    "\n",
    "$$ F(s) = \\int_0^\\infty e^{-st}f(t) dt $$\n",
    "\n",
    "where `s` is a complex frequency variable.\n",
    "\n",
    "In Python, we can use the `sympy` library to compute Laplace transforms symbolically. Here's an example implementation:\n",
    "\n",
    "The Python script uses the following libraries:\n",
    "\n",
    "- `sympy`: a Python library for symbolic mathematics\n",
    "- `numpy`: a Python library for numerical computing\n",
    "- `matplotlib`: a Python library for data visualization"
   ]
  },
  {
   "cell_type": "code",
   "execution_count": 6,
   "id": "e5cdb7c2",
   "metadata": {},
   "outputs": [],
   "source": [
    "import sympy as sp\n",
    "import numpy as np\n",
    "import matplotlib.pyplot as plt"
   ]
  },
  {
   "cell_type": "markdown",
   "id": "3445dd15",
   "metadata": {},
   "source": [
    "## Theoretical Implementation"
   ]
  },
  {
   "cell_type": "code",
   "execution_count": 3,
   "id": "abce8da9",
   "metadata": {},
   "outputs": [],
   "source": [
    "def laplace_transform(func, var, s):\n",
    "    \"\"\"\n",
    "    Computes the Laplace transform of a given function.\n",
    "\n",
    "    Parameters\n",
    "    ----------\n",
    "    func : sympy expression\n",
    "        The function to transform.\n",
    "    var : sympy symbol\n",
    "        The independent variable of the function.\n",
    "    s : sympy symbol\n",
    "        The complex frequency variable.\n",
    "\n",
    "    Returns\n",
    "    -------\n",
    "    sympy expression\n",
    "        The Laplace transform of the given function.\n",
    "    \"\"\"\n",
    "    return sp.integrate(func*sp.exp(-s*var), (var, 0, sp.oo))"
   ]
  },
  {
   "cell_type": "code",
   "execution_count": 12,
   "id": "909b8808",
   "metadata": {
    "scrolled": true
   },
   "outputs": [
    {
     "name": "stdout",
     "output_type": "stream",
     "text": [
      "Function: f(t) =\n"
     ]
    },
    {
     "data": {
      "text/latex": [
       "$\\displaystyle e^{- \\frac{t^{2}}{2}}$"
      ],
      "text/plain": [
       "exp(-t**2/2)"
      ]
     },
     "metadata": {},
     "output_type": "display_data"
    },
    {
     "name": "stdout",
     "output_type": "stream",
     "text": [
      "Laplace Transform: F(s) =\n"
     ]
    },
    {
     "data": {
      "text/latex": [
       "$\\displaystyle \\frac{\\sqrt{2} \\sqrt{\\pi} e^{\\frac{s^{2}}{2}} \\operatorname{erfc}{\\left(\\frac{\\sqrt{2} s}{2} \\right)}}{2}$"
      ],
      "text/plain": [
       "sqrt(2)*sqrt(pi)*exp(s**2/2)*erfc(sqrt(2)*s/2)/2"
      ]
     },
     "metadata": {},
     "output_type": "display_data"
    }
   ],
   "source": [
    "# Define the function to transform\n",
    "t = sp.symbols('t')\n",
    "f = sp.exp(-t**2/2)\n",
    "\n",
    "# Compute the Laplace transform of the function\n",
    "s = sp.symbols('s')\n",
    "F = laplace_transform(f, t, s)\n",
    "\n",
    "# Display the function and its Laplace transform\n",
    "print('Function: f(t) ='); display(f)\n",
    "print('Laplace Transform: F(s) ='); display(F)"
   ]
  },
  {
   "cell_type": "markdown",
   "id": "b4f3081f",
   "metadata": {},
   "source": [
    "## Visualization"
   ]
  },
  {
   "cell_type": "code",
   "execution_count": 43,
   "id": "20a2443d",
   "metadata": {},
   "outputs": [],
   "source": [
    "# Convert the sympy expressions to numpy functions for plotting\n",
    "F_np = sp.lambdify(s, F)\n",
    "\n",
    "# Plot the Fourier transform\n",
    "freqs = np.linspace(-5, 5, 100)\n",
    "F_vals = F_np(freqs)"
   ]
  },
  {
   "cell_type": "code",
   "execution_count": 49,
   "id": "9029f66e",
   "metadata": {},
   "outputs": [
    {
     "data": {
      "image/png": "[encoded data removed]",
      "text/plain": [
       "<Figure size 720x576 with 2 Axes>"
      ]
     },
     "metadata": {
      "needs_background": "light"
     },
     "output_type": "display_data"
    }
   ],
   "source": [
    "# Define the figure size and layout\n",
    "fig, (ax1, ax2) = plt.subplots(2, 1, figsize=(10, 8))\n",
    "\n",
    "# Plot the function in the first subplot\n",
    "t_vals = np.linspace(-5, 5, 1000)\n",
    "f_vals = [f.subs(t, t_val).evalf() for t_val in t_vals]\n",
    "ax1.plot(t_vals, f_vals, label='$f(t)$', color='blue')\n",
    "ax1.set_xlabel('Time (s)', fontsize=14)\n",
    "ax1.set_ylabel('$f(t)$', fontsize=14)\n",
    "ax1.set_xlim([-5, 5])\n",
    "ax1.tick_params(labelsize=12)\n",
    "ax1.legend(fontsize=12)\n",
    "\n",
    "# Plot the Laplace transform in the second subplot\n",
    "ax2.plot(freqs, F_vals, label='$F(s)$', color='red')\n",
    "ax2.set_xlabel('Frequency (Hz)', fontsize=14)\n",
    "ax2.set_ylabel('$F(s)$', fontsize=14)\n",
    "ax2.set_xlim([-5, -3])\n",
    "ax2.tick_params(labelsize=12)\n",
    "ax2.legend(fontsize=12)\n",
    "\n",
    "# Adjust spacing between subplots\n",
    "plt.subplots_adjust(hspace=0.4)\n",
    "\n",
    "# Show the plot\n",
    "plt.show()"
   ]
  }
 ],
 "metadata": {
  "kernelspec": {
   "display_name": "Python 3 (ipykernel)",
   "language": "python",
   "name": "python3"
  },
  "language_info": {
   "codemirror_mode": {
    "name": "ipython",
    "version": 3
   },
   "file_extension": ".py",
   "mimetype": "text/x-python",
   "name": "python",
   "nbconvert_exporter": "python",
   "pygments_lexer": "ipython3",
   "version": "3.8.13"
  }
 },
 "nbformat": 4,
 "nbformat_minor": 5
}
